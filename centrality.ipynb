{
 "cells": [
  {
   "cell_type": "code",
   "execution_count": 1,
   "metadata": {},
   "outputs": [],
   "source": [
    "# the packages\n",
    "import pandas as pd\n",
    "import numpy as np\n",
    "import networkx as nx\n",
    "\n",
    "# import my own helper functions\n",
    "from read import read_sims_result\n",
    "from clean import cleanup_0IR_exp\n",
    "from clean import cleanup_network\n",
    "\n",
    "# Page Rank\n",
    "from networkx.algorithms.link_analysis.pagerank_alg import pagerank_numpy\n",
    "\n",
    "# logistic regression\n",
    "from sklearn.linear_model import LogisticRegression"
   ]
  },
  {
   "cell_type": "code",
   "execution_count": null,
   "metadata": {},
   "outputs": [],
   "source": [
    "\n",
    "LogisticRegression"
   ]
  },
  {
   "cell_type": "code",
   "execution_count": 3,
   "metadata": {},
   "outputs": [
    {
     "data": {
      "text/plain": [
       "LogisticRegression(C=0.007, class_weight=None, dual=False, fit_intercept=True,\n",
       "          intercept_scaling=1, max_iter=100, multi_class='ovr', n_jobs=1,\n",
       "          penalty='l1', random_state=None, solver='liblinear', tol=0.0001,\n",
       "          verbose=0, warm_start=False)"
      ]
     },
     "execution_count": 3,
     "metadata": {},
     "output_type": "execute_result"
    }
   ],
   "source": [
    "# ###########################\n",
    "# Read OIR results, and fit the model\n",
    "# ###########################\n",
    "df0 = read_sims_result(\"/Users/xcheng/Documents/Oberlin/Summer2/DataAnalysis/data/0622/0IR300s\", 32)\n",
    "df0c = cleanup_0IR_exp(df0, numNode=32, numPeriod=15, numSim=100, balanced=True)\n",
    "\n",
    "X = df0c[[\"deposits\", \"cash\", \"assets\", \"credit available\", \"wealth\", \"leverage\", \n",
    "         \"dummy-0-leverage\",\n",
    "         \"wealth-lag\", \"deposits-lag\", \"cash-lag\", \"assets-lag\", \"leverage-lag\", \n",
    "         \"credit-available-lag\", \"credit-issued-lag\", \"dummy-0-leverage-lag\",\n",
    "         \"over-leverage-frequency\"]]\n",
    "y = df0c[\"default-next\"]\n",
    "\n",
    "final = LogisticRegression(penalty=\"l1\", C=0.007)\n",
    "final.fit(X,y)"
   ]
  },
  {
   "cell_type": "code",
   "execution_count": 4,
   "metadata": {},
   "outputs": [],
   "source": [
    "# make sure no defaults in 0IR\n",
    "# sum(df0[df0[\"defaults due to interest\"]\n",
    "#     +df0[\"defaults due to negative wealth\"]\n",
    "#     +df0[\"defaults due to deposit shock\"] == 0].loc[:,\"dot0\":\"dot30\"].values)"
   ]
  },
  {
   "cell_type": "code",
   "execution_count": 56,
   "metadata": {},
   "outputs": [],
   "source": [
    "# ###########################\n",
    "# Read & process positive IR results\n",
    "# ###########################\n",
    "df_1 = read_sims_result(\"/Users/xcheng/Documents/Oberlin/Summer2/DataAnalysis/data/0625/1IR\", 32)\n",
    "mx_1n = cleanup_network(df_1, numNode=32, numPeriod=15, numSim=50)\n",
    "df_1c = cleanup_0IR_exp(df_1, numNode=32, numPeriod=15, numSim=50)"
   ]
  },
  {
   "cell_type": "code",
   "execution_count": 44,
   "metadata": {},
   "outputs": [
    {
     "data": {
      "text/plain": [
       "(50, 15, 31, 31)"
      ]
     },
     "execution_count": 44,
     "metadata": {},
     "output_type": "execute_result"
    }
   ],
   "source": [
    "mx_1n.shape"
   ]
  },
  {
   "cell_type": "code",
   "execution_count": 45,
   "metadata": {},
   "outputs": [
    {
     "data": {
      "text/plain": [
       "456000"
      ]
     },
     "execution_count": 45,
     "metadata": {},
     "output_type": "execute_result"
    }
   ],
   "source": [
    "df_1c.size"
   ]
  },
  {
   "cell_type": "code",
   "execution_count": 48,
   "metadata": {},
   "outputs": [
    {
     "data": {
      "text/plain": [
       "array([[ 0.        ,  0.        , 17.0429    ,  0.102302  , 12.3833    ,\n",
       "         0.10387791,  0.        , 11.3214    ,  6.65258   ,  0.        ,\n",
       "        29.9801    ,  0.88825003,  3.95216   , 11.3214    ,  0.        ,\n",
       "         0.        ]])"
      ]
     },
     "execution_count": 48,
     "metadata": {},
     "output_type": "execute_result"
    }
   ],
   "source": [
    "Q=df_1c[np.array(df_1c[\"sim#\"]==2) & np.array(df_1c[\"period\"]==3) & np.array(df_1c[\"bankID\"]==0)][independent].values\n",
    "Q"
   ]
  },
  {
   "cell_type": "code",
   "execution_count": 49,
   "metadata": {},
   "outputs": [
    {
     "data": {
      "text/plain": [
       "array([[0.91454575, 0.08545425]])"
      ]
     },
     "execution_count": 49,
     "metadata": {},
     "output_type": "execute_result"
    }
   ],
   "source": [
    "final.predict_proba(Q)"
   ]
  },
  {
   "cell_type": "code",
   "execution_count": 50,
   "metadata": {},
   "outputs": [
    {
     "data": {
      "text/plain": [
       "0.08545424735769748"
      ]
     },
     "execution_count": 50,
     "metadata": {},
     "output_type": "execute_result"
    }
   ],
   "source": [
    "P=final.predict_proba(Q)[0][1]\n",
    "P"
   ]
  },
  {
   "cell_type": "code",
   "execution_count": 51,
   "metadata": {},
   "outputs": [
    {
     "data": {
      "text/plain": [
       "array([[0.       , 0.211184 , 0.       , 0.125881 , 0.0418506, 0.       ,\n",
       "        0.       , 0.126229 , 0.       , 0.114019 , 0.107985 , 0.       ,\n",
       "        0.0970285, 0.0921673, 0.0876993, 0.0835951, 0.       , 0.0763501,\n",
       "        0.0731479, 0.       , 0.0625411, 0.       , 0.0545463, 0.0512541,\n",
       "        0.0483304, 0.0457176, 0.       , 0.0412483, 0.039323 , 0.       ,\n",
       "        0.060337 ]])"
      ]
     },
     "execution_count": 51,
     "metadata": {},
     "output_type": "execute_result"
    }
   ],
   "source": [
    "A=df_1[np.array(df_1[\"sim#\"]==2) \n",
    "       & np.array(df_1[\"period\"]==3) \n",
    "       & np.array(df_1[\"bankID\"]==0)].loc[:,\"dot0\":\"dot30\"].values\n",
    "A"
   ]
  },
  {
   "cell_type": "code",
   "execution_count": 52,
   "metadata": {},
   "outputs": [
    {
     "data": {
      "text/plain": [
       "array([[0.        , 0.01804657, 0.        , 0.01075707, 0.00357631,\n",
       "        0.        , 0.        , 0.0107868 , 0.        , 0.00974341,\n",
       "        0.00922778, 0.        , 0.0082915 , 0.00787609, 0.00749428,\n",
       "        0.00714356, 0.        , 0.00652444, 0.0062508 , 0.        ,\n",
       "        0.0053444 , 0.        , 0.00466121, 0.00437988, 0.00413004,\n",
       "        0.00390676, 0.        , 0.00352484, 0.00336032, 0.        ,\n",
       "        0.00515605]])"
      ]
     },
     "execution_count": 52,
     "metadata": {},
     "output_type": "execute_result"
    }
   ],
   "source": [
    "A *= P\n",
    "A"
   ]
  },
  {
   "cell_type": "code",
   "execution_count": 47,
   "metadata": {},
   "outputs": [
    {
     "data": {
      "text/plain": [
       "array([0.        , 0.00154216, 0.        , 0.00091924, 0.00030561,\n",
       "       0.        , 0.        , 0.00092178, 0.        , 0.00083262,\n",
       "       0.00078855, 0.        , 0.00070854, 0.00067305, 0.00064042,\n",
       "       0.00061045, 0.        , 0.00055754, 0.00053416, 0.        ,\n",
       "       0.0004567 , 0.        , 0.00039832, 0.00037428, 0.00035293,\n",
       "       0.00033385, 0.        , 0.00030121, 0.00028715, 0.        ,\n",
       "       0.00044061])"
      ]
     },
     "execution_count": 47,
     "metadata": {},
     "output_type": "execute_result"
    }
   ],
   "source": [
    "mx_1n[2,2,0]"
   ]
  },
  {
   "cell_type": "code",
   "execution_count": null,
   "metadata": {},
   "outputs": [],
   "source": [
    "# independent variables\n",
    "independent = [\"deposits\", \"cash\", \"assets\", \"credit available\", \"wealth\", \"leverage\", \n",
    "         \"dummy-0-leverage\",\n",
    "         \"wealth-lag\", \"deposits-lag\", \"cash-lag\", \"assets-lag\", \"leverage-lag\", \n",
    "         \"credit-available-lag\", \"credit-issued-lag\", \"dummy-0-leverage-lag\",\n",
    "         \"over-leverage-frequency\"]"
   ]
  },
  {
   "cell_type": "code",
   "execution_count": 63,
   "metadata": {},
   "outputs": [],
   "source": [
    "def weighted_network(N, model, variables):\n",
    "    \"\"\"\n",
    "    Add weight to network\n",
    "    Each debt is multiplied by lenders' predicted default probability\n",
    "    \n",
    "    Parameters\n",
    "    ----------\n",
    "    N: 4D numpy array\n",
    "        debt adjacency matrix \n",
    "    model: scikit learn LogisticRegression\n",
    "        model for default probability\n",
    "    variables: a list of strings\n",
    "        independent variables for the model\n",
    "    \n",
    "    Returns\n",
    "    ----------\n",
    "    WN: 4D numpy array\n",
    "        new weighted debt adjacency matrix \n",
    "    \"\"\"\n",
    "    \n",
    "    WN = np.copy(N)\n",
    "    simNum, periodNum, bankNum, _= N.shape\n",
    "    \n",
    "    for s in range(simNum):\n",
    "        for p in range(1,periodNum-1):\n",
    "            for b in range(bankNum):\n",
    "                X = df_1c[np.array(df_1c[\"sim#\"]==s) &\n",
    "                          np.array(df_1c[\"period\"]==p) & \n",
    "                          np.array(df_1c[\"bankID\"]==b)\n",
    "                         ][variables].values\n",
    "                if X.any():\n",
    "                    predicted_default_probability = model.predict_proba(X)[0][1]\n",
    "                    WN[s, p-1, b] *= predicted_default_probability\n",
    "                    \n",
    "    return WN"
   ]
  },
  {
   "cell_type": "code",
   "execution_count": 64,
   "metadata": {},
   "outputs": [
    {
     "name": "stdout",
     "output_type": "stream",
     "text": [
      "[0. 0. 0. 0. 0. 0. 0. 0. 0. 0. 0. 0. 0. 0. 0. 0. 0. 0. 0. 0. 0. 0. 0. 0.\n",
      " 0. 0. 0. 0. 0. 0. 0.]\n",
      "[0.       0.753316 0.       0.449028 0.       0.       0.       0.450272\n",
      " 0.       0.406718 0.385193 0.       0.34611  0.32877  0.312832 0.\n",
      " 0.       0.272349 0.260926 0.       0.22309  0.       0.194572 0.182829\n",
      " 0.172399 0.163079 0.       0.147137 0.140269 0.       0.215228]\n",
      "[0. 0. 0. 0. 0. 0. 0. 0. 0. 0. 0. 0. 0. 0. 0. 0. 0. 0. 0. 0. 0. 0. 0. 0.\n",
      " 0. 0. 0. 0. 0. 0. 0.]\n",
      "[0.         0.24504744 0.         0.14606508 0.         0.\n",
      " 0.         0.14646974 0.         0.13230199 0.12530008 0.\n",
      " 0.11258671 0.10694615 0.10176165 0.         0.         0.08859287\n",
      " 0.08487706 0.         0.07256932 0.         0.06329266 0.05947276\n",
      " 0.05607996 0.05304824 0.         0.04786244 0.04562834 0.\n",
      " 0.07001188]\n"
     ]
    }
   ],
   "source": [
    "# ###########################\n",
    "# Let's add the weight\n",
    "# ###########################\n",
    "\n",
    "print(mx_1n[2,2,5])\n",
    "print(mx_1n[2,2,15])\n",
    "weighted = weighted_network(mx_1n, final, independent)\n",
    "print(weighted[2,2,5])\n",
    "print(weighted[2,2,15])"
   ]
  },
  {
   "cell_type": "code",
   "execution_count": 12,
   "metadata": {},
   "outputs": [
    {
     "data": {
      "text/plain": [
       "array([0.8, 2. , 2.4])"
      ]
     },
     "execution_count": 12,
     "metadata": {},
     "output_type": "execute_result"
    }
   ],
   "source": [
    "opq = np.array([2, 5 ,6])\n",
    "opq * 0.4"
   ]
  },
  {
   "cell_type": "code",
   "execution_count": 13,
   "metadata": {},
   "outputs": [],
   "source": [
    "G = nx.DiGraph(mx_1n[3,2])\n",
    "nx.draw(G)"
   ]
  },
  {
   "cell_type": "code",
   "execution_count": 14,
   "metadata": {},
   "outputs": [
    {
     "name": "stdout",
     "output_type": "stream",
     "text": [
      "0  | 0.035259265\n",
      "1  | 0.030456189\n",
      "2  | 0.030456189\n",
      "3  | 0.030456189\n",
      "4  | 0.030456189\n",
      "5  | 0.030456189\n",
      "6  | 0.030456189\n",
      "7  | 0.030456189\n",
      "8  | 0.035648913\n",
      "9  | 0.035380293\n",
      "10 | 0.035119624\n",
      "11 | 0.033111168\n",
      "12 | 0.034646382\n",
      "13 | 0.034436413\n",
      "14 | 0.030456189\n",
      "15 | 0.030456189\n",
      "16 | 0.03390325\n",
      "17 | 0.030456189\n",
      "18 | 0.033614979\n",
      "19 | 0.030456189\n",
      "20 | 0.033156904\n",
      "21 | 0.03297282\n",
      "22 | 0.032811638\n",
      "23 | 0.030456189\n",
      "24 | 0.032543206\n",
      "25 | 0.032430377\n",
      "26 | 0.032328977\n",
      "27 | 0.032237372\n",
      "28 | 0.03140625\n",
      "29 | 0.030456189\n",
      "30 | 0.033061711\n"
     ]
    }
   ],
   "source": [
    "pg = pagerank_numpy(G)\n",
    "for k,v in pg.items():\n",
    "    print(\"{:<3}| {:.8}\".format(k,v))"
   ]
  },
  {
   "cell_type": "code",
   "execution_count": null,
   "metadata": {},
   "outputs": [],
   "source": []
  }
 ],
 "metadata": {
  "kernelspec": {
   "display_name": "Python 3",
   "language": "python",
   "name": "python3"
  },
  "language_info": {
   "codemirror_mode": {
    "name": "ipython",
    "version": 3
   },
   "file_extension": ".py",
   "mimetype": "text/x-python",
   "name": "python",
   "nbconvert_exporter": "python",
   "pygments_lexer": "ipython3",
   "version": "3.6.5"
  }
 },
 "nbformat": 4,
 "nbformat_minor": 2
}
