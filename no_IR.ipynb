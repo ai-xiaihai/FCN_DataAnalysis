{
 "cells": [
  {
   "cell_type": "code",
   "execution_count": 1,
   "metadata": {
    "scrolled": true
   },
   "outputs": [],
   "source": [
    "# ####################################\n",
    "# Settings & Imports\n",
    "# ####################################\n",
    "\n",
    "# Imports from __future__ in case we're running Python 2\n",
    "from __future__ import division, print_function\n",
    "from __future__ import absolute_import, unicode_literals\n",
    "\n",
    "# import my own helper functions\n",
    "from read import read_sims_result\n",
    "from clean import cleanup_0IR_exp\n",
    "from clean import cleanup_0IR_single\n",
    "\n",
    "# Our numerical workhorses\n",
    "import numpy as np\n",
    "\n",
    "# Import pyplot for plotting\n",
    "import matplotlib.pyplot as plt\n",
    "\n",
    "# import logistic regression from scikit learn \n",
    "from sklearn.linear_model import LogisticRegression\n",
    "\n",
    "# import model selection stuff from scikit learn\n",
    "from sklearn.model_selection import train_test_split\n",
    "from sklearn.model_selection import KFold\n",
    "\n",
    "# import feature selection stuff from scikit learn\n",
    "from sklearn.feature_selection import RFE\n",
    "\n",
    "# sklearn.metrics\n",
    "from sklearn.metrics import f1_score\n",
    "from sklearn.metrics import confusion_matrix\n",
    "from sklearn.metrics import matthews_corrcoef\n",
    "from sklearn.metrics import brier_score_loss\n",
    "\n",
    "#\n",
    "import statsmodels.api as sm\n",
    "\n",
    "# \n",
    "# from sklearn import preprocessing\n",
    "\n",
    "# Import pandas\n",
    "import pandas as pd\n",
    "\n",
    "# Seaborn, useful for graphics\n",
    "import seaborn as sns\n",
    "\n",
    "# Magic function to make matplotlib inline; other style specs must come AFTER\n",
    "%matplotlib inline\n",
    "\n",
    "# This enables SVG graphics inline.  There is a bug, so uncomment if it works.\n",
    "# %config InlineBackend.figure_formats = {'svg',}\n",
    "\n",
    "# This enables high resolution PNGs. SVG is preferred, but has problems\n",
    "# rendering vertical and horizontal lines\n",
    "# %config InlineBackend.figure_formats = {'png', 'retina'}\n",
    "\n",
    "# JB's favorite Seaborn settings for notebooks\n",
    "rc = {'lines.linewidth': 2, \n",
    "      'axes.labelsize': 18, \n",
    "      'axes.titlesize': 18, \n",
    "      'axes.facecolor': 'DFDFE5'}\n",
    "# sns.set_context('notebook', rc=rc)\n",
    "# sns.set_style('darkgrid', rc=rc)\n",
    "\n",
    "# remove some pandas warning\n",
    "pd.options.mode.chained_assignment = None"
   ]
  },
  {
   "cell_type": "markdown",
   "metadata": {},
   "source": [
    "Now we want to construct a model to estimate the probability of default based on some parameter when this is no borrowing or lending.\n",
    "\n",
    "First, let's read and clean up the data.\n",
    "\n",
    "Then, we observe the data."
   ]
  },
  {
   "cell_type": "code",
   "execution_count": 2,
   "metadata": {},
   "outputs": [],
   "source": [
    "# ####################################\n",
    "# Actually run analysis, toggle env variable here\n",
    "# ####################################\n",
    "df = read_sims_result(\"/Users/xcheng/Documents/Oberlin/Summer2/DataAnalysis/data/0621/0IR\", 32)\n",
    "df2 = cleanup_0IR_exp(df, numNode=32, numPeriod=15, numSim=50, balanced=True)"
   ]
  },
  {
   "cell_type": "code",
   "execution_count": 3,
   "metadata": {},
   "outputs": [],
   "source": [
    "# ####################################\n",
    "# Make Sure There is NO DEBT in this 0IR simulation\n",
    "# ####################################\n",
    "# df3 = df[df[\"defaults due to negative wealth\"] # filter default rows\n",
    "#   +df[\"defaults due to deposit shock\"]\n",
    "#   +df['defaults due to interest'] == 0].copy()\n",
    "# for col in df.columns.values[:31]:\n",
    "#     print('{0:5s} {1:15f} {2:15f}'.format(col, df3[col].sum(), df[col].sum()))\n",
    "# print(\"total debt to pay:\", df3[\"debt to pay\"].sum())\n",
    "# print(\"total debt owed:\", df3[\"debt owed\"].sum())"
   ]
  },
  {
   "cell_type": "code",
   "execution_count": 4,
   "metadata": {},
   "outputs": [],
   "source": [
    "# ####################################\n",
    "# look at the data\n",
    "# ####################################\n",
    "# k=1\n",
    "# sim1 = df.loc[k*15*31:(k+1)*15*31-1]\n",
    "# sim1_ready = cleanup_0IR_single(sim1, 32)\n",
    "# sim1_ready[sim1_ready[\"theta (risk aversion)\"] == 0.05]\n",
    "# sim2 = df.loc[49*15*31:50*15*31-1].copy().reset_index(drop=True)\n",
    "# sim2_ready = cleanup_0IR_single(sim2, 32)\n",
    "# sim2_ready\n",
    "# sim2_ready[sim2_ready[\"theta (risk aversion)\"] == 0.05].loc[:,\"period\":]\n",
    "# df2[df2[\"theta (risk aversion)\"] == 0.05].loc[:,\"period\":]"
   ]
  },
  {
   "cell_type": "code",
   "execution_count": 5,
   "metadata": {},
   "outputs": [],
   "source": [
    "# ####################################\n",
    "# look at how things differ for banks with different level of risk aversion\n",
    "# ####################################\n",
    "# avg_by_bank = df2.groupby('theta (risk aversion)').mean()\n",
    "# avg_by_bank[[\"default-next-wealth\", \"default-next-deposit\"]].plot(\n",
    "#     kind=\"line\", \n",
    "#     figsize=(12,8),\n",
    "#     title=\"Frequency & Reason of Default for Each Bank\"\n",
    "# )\n",
    "# avg_by_bank[[\"wealth\", \"deposits\", \"cash\", \"assets\"]].plot(\n",
    "#     kind=\"line\", \n",
    "#     figsize=(12,8),\n",
    "#     title=\"Investment Decisions for Each Bank\"\n",
    "# )\n",
    "# avg_by_bank[[\"credit available\", \"credit issued\"]].plot(\n",
    "#     kind=\"line\", \n",
    "#     figsize=(12,8),\n",
    "#     title=\"Credit Condition for Each Bank\"\n",
    "# )"
   ]
  },
  {
   "cell_type": "code",
   "execution_count": 6,
   "metadata": {},
   "outputs": [],
   "source": [
    "# ####################################\n",
    "# look at the plots for correlation\n",
    "# ####################################\n",
    "\n",
    "# to see how independent variables correlate with each other \n",
    "# plt.scatter(df2[\"cash\"], df2[\"credit available\"])\n",
    "# plt.scatter(df2[\"assets\"], df2[\"credit available\"])\n",
    "# plt.scatter(df2[\"deposits\"], df2[\"credit available\"])\n",
    "# plt.scatter(df2[\"cash\"], df2[\"assets\"])\n",
    "# plt.scatter (df2[\"cash\"], df2[\"deposits\"])\n",
    "# plt.scatter(df2[\"deposits\"], df2[\"assets\"])\n",
    "\n",
    "# to see how dependent variable relates to independent variables\n",
    "# plt.scatter(df2[\"default-next\"], df2[\"cash\"])\n",
    "# plt.scatter(df2[\"default-next\"], df2[\"assets\"])\n",
    "# plt.scatter(df2[\"default-next\"], df2[\"deposits\"])\n",
    "# plt.scatter(df2[\"default-next\"], df2[\"wealth\"])\n",
    "\n",
    "# plot settings\n",
    "# plt.yscale(\"symlog\")\n",
    "# plt.xscale(\"symlog\")\n",
    "# plt.rcParams[\"figure.figsize\"] = [25,15]"
   ]
  },
  {
   "cell_type": "code",
   "execution_count": 7,
   "metadata": {},
   "outputs": [],
   "source": [
    "# ####################################\n",
    "# look at how things differ during each period\n",
    "# ####################################\n",
    "\n",
    "# Plot time vs default\n",
    "# df2['period'].hist(by=df2['default-next'], bins=14,  rwidth=0.7, stacked=True)\n",
    "\n",
    "# Plot time vs independent variables\n",
    "# avg_by_time = df2.groupby('period').mean()\n",
    "# avg_by_time[[\"default-next-wealth\", \"default-next-deposit\"]].plot(\n",
    "#     kind=\"line\", \n",
    "#     figsize=(12,8),\n",
    "#     title=\"Frequency & Reason of Default During Each Period\"\n",
    "# )\n",
    "# avg_by_time[[\"wealth\", \"deposits\", \"cash\", \"assets\"]].plot(\n",
    "#     kind=\"line\", \n",
    "#     figsize=(12,8),\n",
    "#     title=\"Investment Decisions During Each Period\"\n",
    "# )\n",
    "# avg_by_time[[\"credit available\", \"credit issued\"]].plot(\n",
    "#     kind=\"line\", \n",
    "#     figsize=(12,8),\n",
    "#     title=\"Credit Condition During Each Period\"\n",
    "# )"
   ]
  },
  {
   "cell_type": "code",
   "execution_count": 8,
   "metadata": {},
   "outputs": [],
   "source": [
    "# negative wealth not default\n",
    "# df[df[\"wealth\"]<0].loc[1:10000,\"period\":]\n",
    "# df2[df2[\"wealth\"]<=0][\"wealth\"]"
   ]
  },
  {
   "cell_type": "code",
   "execution_count": 9,
   "metadata": {},
   "outputs": [],
   "source": [
    "# come back from 0 wealth\n",
    "# df2[df2[\"theta (risk aversion)\"]==0.1]"
   ]
  },
  {
   "cell_type": "markdown",
   "metadata": {},
   "source": [
    "The thing about negative wealth is due to the haircut in asset when calculating wealth."
   ]
  },
  {
   "cell_type": "code",
   "execution_count": 10,
   "metadata": {},
   "outputs": [],
   "source": [
    "# check the number of default vs non-default cases\n",
    "# df2.groupby('default-next').count()"
   ]
  },
  {
   "cell_type": "code",
   "execution_count": 11,
   "metadata": {},
   "outputs": [],
   "source": [
    "# Try to figure out whether there is Multicollinearity\n",
    "# df2[\"cash\"]+df2[\"assets\"]*0.8-df2[\"deposits\"]-df2[\"wealth\"]\n",
    "# np.linalg.eig(X.corr())"
   ]
  },
  {
   "cell_type": "markdown",
   "metadata": {},
   "source": [
    "We want to construst a model to predict default (in the next period) in a simulation where there is no lending or borrowing. \n",
    "\n",
    "Variables we can consider includes deposits, cash, assets, credit available, credit issued. \n",
    "\n",
    "I exclude theta (risk aversion) because I think it is private info. \n",
    "\n",
    "I exclude period because I don't think banks should have this information. It feels like cheating.\n",
    "\n",
    "I exclude defaults due to interest, debt to pay, debt owed, over leverages because there is no debt. \n",
    "\n",
    "I exclude credit issued becuase this should not affect anything when there is no debt. \n",
    "\n",
    "I exclude wealth because wealth is a linear combination of deposits, cash and assets.\n",
    "(this might not be true)\n",
    "\n",
    "Let's do a logistic regression."
   ]
  },
  {
   "cell_type": "code",
   "execution_count": 12,
   "metadata": {},
   "outputs": [],
   "source": [
    "# independent variables (candidates)\n",
    "X = df2[[\"deposits\", \"cash\", \"assets\", \"credit available\", \"wealth\", \"leverage\",\n",
    "         \"wealth-lag\", \"deposits-lag\", \"cash-lag\", \"assets-lag\", \n",
    "         \"leverage-lag\", \"credit-available-lag\", \"credit-issued-lag\",\n",
    "         \"over-leverage-frequency\"]] \n",
    "# dependent variable 0\n",
    "y = df2[\"default-next\"] "
   ]
  },
  {
   "cell_type": "markdown",
   "metadata": {},
   "source": [
    "In our data, there are significantly more non-default cases than default cases after I remove cases where the banks default during the previous periods. Over 98% of the cases are non-default. So when we do cross validation, the model we train would just predict not default every time and still get a very high accuracy. \n",
    "\n",
    "[DONE] Solution : Throw away lots of non-default cases randomly\n",
    "    -> get the same amount of default and non-default cases"
   ]
  },
  {
   "cell_type": "code",
   "execution_count": 13,
   "metadata": {},
   "outputs": [],
   "source": [
    "# correlation matrix\n",
    "# X.corr()"
   ]
  },
  {
   "cell_type": "markdown",
   "metadata": {},
   "source": [
    "We sometimes get a warning about complete quasi-separation. What does that mean? Trying to figure out.\n",
    "\n",
    "Once I remove cash as an independent variable, the warning about possible complete quasi-separation goes away. However, I don't think we should readlly care about complete quasi-separation."
   ]
  },
  {
   "cell_type": "code",
   "execution_count": 14,
   "metadata": {},
   "outputs": [],
   "source": [
    "# RFE feature selection\n",
    "# logreg = LogisticRegression()\n",
    "# logreg.fit(X,y)\n",
    "# chosen_rfe_X = []\n",
    "# for i in range(1,6):\n",
    "#     rfe = RFE(logreg, i)\n",
    "#     rfe = rfe.fit(X,y)\n",
    "#     print(i, \"feature(s):\", rfe.support_, rfe.ranking_)\n",
    "#     chosen_rfe_X.append(X.columns.values[rfe.support_])\n",
    "# chosen_rfe_X.append(X.columns.values)"
   ]
  },
  {
   "cell_type": "code",
   "execution_count": 15,
   "metadata": {},
   "outputs": [],
   "source": [
    "# fit the model with features selected by RFE\n",
    "# for predictors in chosen_rfe_X:\n",
    "#     print(sm.Logit(y, sm.add_constant(df2[predictors])).fit().summary())"
   ]
  },
  {
   "cell_type": "code",
   "execution_count": 16,
   "metadata": {},
   "outputs": [],
   "source": [
    "# Check the prediction\n",
    "# m = LogisticRegression()\n",
    "# m.fit(df2[[\"cash\", \"assets\"]], df2[\"default-next\"])\n",
    "# print(m.intercept_, m.coef_)\n",
    "# print(m.predict([[0,50], [50,0],[50,50],[-100,-100],[1000,1000]]))\n",
    "# print(m.predict_proba([[10,0.9]]))"
   ]
  },
  {
   "cell_type": "code",
   "execution_count": 17,
   "metadata": {},
   "outputs": [],
   "source": [
    "# ##############################\n",
    "# K-fold cross validation\n",
    "# ##############################\n",
    "# fold = 9\n",
    "# kf = KFold(n_splits=fold, shuffle=True)\n",
    "\n",
    "# for pp in chosen_rfe_X[1:]:\n",
    "#     xx = df2[pp]\n",
    "#     score = 0\n",
    "# #     f1 = 0\n",
    "#     con = np.array([[0, 0], [0, 0]])\n",
    "# #     mat = 0\n",
    "#     brier = 0\n",
    "#     for train_index, test_index in kf.split(xx):\n",
    "#         logreg = LogisticRegression()\n",
    "#         logreg.fit(xx.iloc[train_index], y.iloc[train_index])\n",
    "#         score += logreg.score(xx.iloc[test_index], y.iloc[test_index])\n",
    "#         con += confusion_matrix(y.iloc[test_index], logreg.predict(xx.iloc[test_index]))\n",
    "# #         f1 += f1_score(y.iloc[test_index], logreg.predict(xx.iloc[test_index]))\n",
    "# #         mat += matthews_corrcoef(y.iloc[test_index], logreg.predict(xx.iloc[test_index]))\n",
    "#         brier += brier_score_loss(y.iloc[test_index], logreg.predict(xx.iloc[test_index]))\n",
    "#     print(\"{}\\n {}\\n accuracy:{:24}\\n  brier:{:24}\\n\".format(\n",
    "#         xx.columns.values, con, score/fold, brier/fold))\n",
    "    \n",
    "\n",
    "# for p in X.columns.values:\n",
    "#     xx = df2[p].values.reshape(-1, 1)\n",
    "#     score = 0\n",
    "# #     f1 = 0\n",
    "#     con = np.array([[0, 0], [0, 0]])\n",
    "#     brier = 0\n",
    "#     for train_index, test_index in kf.split(xx):\n",
    "#         logreg = LogisticRegression()\n",
    "#         logreg.fit(xx[train_index], y[train_index])\n",
    "#         score += logreg.score(xx[test_index], y[test_index])\n",
    "#         con += confusion_matrix(y[test_index], logreg.predict(xx[test_index]))\n",
    "# #         f1 += f1_score(y[test_index], logreg.predict(xx[test_index]))\n",
    "#         brier += brier_score_loss(y[test_index], logreg.predict(xx[test_index]))\n",
    "#     print(\"{}\\n {}\\n accuracy:{:24}\\n brier:{:24}\\n\".format(\n",
    "#         p, con, score/fold, brier/fold))"
   ]
  },
  {
   "cell_type": "code",
   "execution_count": 18,
   "metadata": {},
   "outputs": [
    {
     "name": "stdout",
     "output_type": "stream",
     "text": [
      "[[ 0.         -0.01582352  0.08476914  0.         -0.34276916  0.0280591\n",
      "   0.          0.00034696  0.          0.00281477  0.003057   -0.00723566\n",
      "   0.          0.        ]] [0.]\n",
      "[[ 0.         -0.00260404  0.09737349 -0.00404444 -0.37594398  0.01567711\n",
      "  -0.04904216  0.         -0.00943799  0.00681785  0.00386674  0.\n",
      "   0.00260003  0.        ]] [0.]\n",
      "[[ 0.         -0.01468182  0.08998926 -0.00147131 -0.33960871  0.03509053\n",
      "   0.          0.         -0.0045946   0.          0.00383181  0.\n",
      "   0.          0.        ]] [0.]\n",
      "[[ 0.         -0.01333998  0.08216958  0.         -0.33507214  0.02481974\n",
      "   0.          0.00127421  0.          0.          0.00129793 -0.00231248\n",
      "  -0.0050173   0.        ]] [0.]\n",
      "[[ 0.         -0.01130774  0.08158002  0.         -0.34092548  0.02193655\n",
      "   0.          0.         -0.00086432  0.          0.00254945 -0.01813191\n",
      "   0.00405427  0.        ]] [0.]\n",
      "[[ 0.00000000e+00 -1.16173040e-02  7.96807558e-02 -2.75354007e-04\n",
      "  -3.27567726e-01  2.35452333e-02  0.00000000e+00  0.00000000e+00\n",
      "  -1.11690498e-03  0.00000000e+00  2.23760556e-03 -4.60015608e-03\n",
      "   0.00000000e+00  0.00000000e+00]] [0.]\n",
      "[[ 0.         -0.01218487  0.08148162 -0.00565734 -0.32070626  0.03010365\n",
      "   0.          0.         -0.00108345  0.         -0.00087102 -0.0067596\n",
      "   0.          0.        ]] [0.]\n",
      "[[ 0.         -0.01078885  0.08418194  0.         -0.3148734   0.01738348\n",
      "   0.          0.         -0.00222426  0.          0.00364893 -0.01557101\n",
      "   0.          0.        ]] [0.]\n",
      "[[ 0.         -0.01103013  0.08180368 -0.00109194 -0.3229355   0.0318771\n",
      "   0.          0.         -0.00260798  0.          0.0012433  -0.00597203\n",
      "   0.          0.        ]] [0.]\n",
      "[[145  16]\n",
      " [  9 152]]\n",
      " accuracy:       0.922310405643739\n",
      " brier:     0.07768959435626104\n",
      "\n"
     ]
    }
   ],
   "source": [
    "# ##############################\n",
    "# Regularization + cross validation \n",
    "# trial and error for the best lambda\n",
    "# ##############################\n",
    "fold = 9\n",
    "kf = KFold(n_splits=fold, shuffle=True)\n",
    "\n",
    "accuracy = 0\n",
    "conf = np.array([[0, 0], [0, 0]])\n",
    "brier = 0\n",
    "\n",
    "for train_index, test_index in kf.split(X):\n",
    "    lasso = LogisticRegression(penalty=\"l1\", C=0.05)\n",
    "    lasso.fit(X.iloc[train_index], y.iloc[train_index])\n",
    "    print(lasso.coef_, lasso.intercept_)\n",
    "    accuracy += lasso.score(X.iloc[test_index], y.iloc[test_index])\n",
    "    conf += confusion_matrix(y.iloc[test_index], lasso.predict(X.iloc[test_index]))\n",
    "    brier += brier_score_loss(y.iloc[test_index], lasso.predict(X.iloc[test_index]))\n",
    "print(\"{}\\n accuracy:{:24}\\n brier:{:24}\\n\".format(\n",
    "        conf, accuracy/fold, brier/fold))"
   ]
  },
  {
   "cell_type": "code",
   "execution_count": 20,
   "metadata": {},
   "outputs": [
    {
     "ename": "IndexError",
     "evalue": "arrays used as indices must be of integer (or boolean) type",
     "output_type": "error",
     "traceback": [
      "\u001b[0;31m---------------------------------------------------------------------------\u001b[0m",
      "\u001b[0;31mIndexError\u001b[0m                                Traceback (most recent call last)",
      "\u001b[0;32m<ipython-input-20-a41c65581558>\u001b[0m in \u001b[0;36m<module>\u001b[0;34m()\u001b[0m\n\u001b[1;32m      1\u001b[0m \u001b[0ma\u001b[0m \u001b[0;34m=\u001b[0m \u001b[0mnp\u001b[0m\u001b[0;34m.\u001b[0m\u001b[0marray\u001b[0m\u001b[0;34m(\u001b[0m\u001b[0;34m[\u001b[0m\u001b[0;34m\"o\"\u001b[0m\u001b[0;34m,\u001b[0m \u001b[0;34m\"yeah\"\u001b[0m\u001b[0;34m]\u001b[0m\u001b[0;34m)\u001b[0m\u001b[0;34m\u001b[0m\u001b[0m\n\u001b[1;32m      2\u001b[0m \u001b[0mb\u001b[0m \u001b[0;34m=\u001b[0m \u001b[0mnp\u001b[0m\u001b[0;34m.\u001b[0m\u001b[0marray\u001b[0m\u001b[0;34m(\u001b[0m\u001b[0;34m[\u001b[0m\u001b[0;36m3.4\u001b[0m\u001b[0;34m,\u001b[0m \u001b[0;36m0\u001b[0m\u001b[0;34m]\u001b[0m\u001b[0;34m)\u001b[0m\u001b[0;34m\u001b[0m\u001b[0m\n\u001b[0;32m----> 3\u001b[0;31m \u001b[0ma\u001b[0m\u001b[0;34m[\u001b[0m\u001b[0mb\u001b[0m\u001b[0;34m]\u001b[0m\u001b[0;34m\u001b[0m\u001b[0m\n\u001b[0m",
      "\u001b[0;31mIndexError\u001b[0m: arrays used as indices must be of integer (or boolean) type"
     ]
    }
   ],
   "source": [
    "a = np.array([\"o\", \"yeah\"])\n",
    "b = np.array([3.4, 0])\n",
    "a[b]"
   ]
  },
  {
   "cell_type": "code",
   "execution_count": null,
   "metadata": {},
   "outputs": [],
   "source": []
  }
 ],
 "metadata": {
  "kernelspec": {
   "display_name": "Python 3",
   "language": "python",
   "name": "python3"
  },
  "language_info": {
   "codemirror_mode": {
    "name": "ipython",
    "version": 3
   },
   "file_extension": ".py",
   "mimetype": "text/x-python",
   "name": "python",
   "nbconvert_exporter": "python",
   "pygments_lexer": "ipython3",
   "version": "3.6.5"
  }
 },
 "nbformat": 4,
 "nbformat_minor": 2
}
