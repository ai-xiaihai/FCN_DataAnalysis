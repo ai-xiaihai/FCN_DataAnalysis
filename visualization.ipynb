{
 "cells": [
  {
   "cell_type": "code",
   "execution_count": 1,
   "metadata": {},
   "outputs": [],
   "source": [
    "# the packages\n",
    "import pandas as pd\n",
    "import numpy as np\n",
    "import matplotlib.pyplot as plt\n",
    "import seaborn as sns\n",
    "\n",
    "# import my own helper functions\n",
    "from read import read_sims_result\n",
    "from clean import cleanup_0IR_exp\n",
    "from clean import cleanup_0IR_single\n",
    "from clean import cleanup_network\n",
    "\n",
    "# other python functions\n",
    "from itertools import combinations"
   ]
  },
  {
   "cell_type": "code",
   "execution_count": 2,
   "metadata": {},
   "outputs": [],
   "source": [
    "# Read data\n",
    "dft = read_sims_result(\"/Users/xcheng/Documents/Oberlin/Summer2/DataAnalysis/data/0719/1IR100s\", 32)\n",
    "dftc = cleanup_0IR_exp(dft, numSim=100, balanced=False, debts=True)"
   ]
  },
  {
   "cell_type": "code",
   "execution_count": 3,
   "metadata": {},
   "outputs": [],
   "source": [
    "# interesting variables to visualize\n",
    "variables = ['wealth', 'debt to pay', 'credit available',\n",
    "             'debt owed', 'credit issued', 'deposits', 'cash', \n",
    "             'assets', 'leverage', 'over-leverage-frequency']"
   ]
  },
  {
   "cell_type": "code",
   "execution_count": 31,
   "metadata": {},
   "outputs": [],
   "source": [
    "# single variable\n",
    "for i in variables:\n",
    "    fig = plt.figure(figsize=(20,20))\n",
    "    plt.yscale('symlog')\n",
    "    sns.violinplot(y=i, x=\"default-next\", data=dftc, scale='width')\n",
    "    plt.savefig(\"vis/single/\" + i + \".png\") \n",
    "    plt.close(fig)"
   ]
  },
  {
   "cell_type": "code",
   "execution_count": 17,
   "metadata": {},
   "outputs": [],
   "source": [
    "# double variables\n",
    "colors=['grey','red']\n",
    "sizes=[2,30]\n",
    "for i,j in combinations(variables, 2):\n",
    "    fig = plt.figure(figsize=(20,20))\n",
    "    plt.xscale('symlog')\n",
    "    plt.yscale('symlog')\n",
    "    plt.xlabel(i)\n",
    "    plt.ylabel(j)\n",
    "    plt.scatter(x=dftc[i], y=dftc[j],\n",
    "                c=dftc[\"default-next\"].apply(lambda x:colors[x]),\n",
    "                s=dftc[\"default-next\"].apply(lambda x:sizes[x])\n",
    "               )\n",
    "    plt.savefig(\"vis/double/\" + i + j + \".png\") \n",
    "    plt.close(fig)"
   ]
  },
  {
   "cell_type": "code",
   "execution_count": null,
   "metadata": {},
   "outputs": [],
   "source": []
  }
 ],
 "metadata": {
  "kernelspec": {
   "display_name": "Python 3",
   "language": "python",
   "name": "python3"
  },
  "language_info": {
   "codemirror_mode": {
    "name": "ipython",
    "version": 3
   },
   "file_extension": ".py",
   "mimetype": "text/x-python",
   "name": "python",
   "nbconvert_exporter": "python",
   "pygments_lexer": "ipython3",
   "version": "3.6.5"
  }
 },
 "nbformat": 4,
 "nbformat_minor": 2
}
