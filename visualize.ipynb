{
 "cells": [
  {
   "cell_type": "code",
   "execution_count": 94,
   "metadata": {},
   "outputs": [],
   "source": [
    "import pandas as pd\n",
    "import numpy as np\n",
    "import networkx as nx\n",
    "import matplotlib.pyplot as plt\n",
    "\n",
    "from random import choice\n",
    "from datetime import datetime\n",
    "\n",
    "from read import read_sims_result\n",
    "from clean import cleanup_network,cleanup_0IR_exp\n",
    "\n",
    "from matplotlib.animation import FuncAnimation"
   ]
  },
  {
   "cell_type": "code",
   "execution_count": 96,
   "metadata": {},
   "outputs": [],
   "source": [
    "df = read_sims_result('/Users/xcheng/Documents/Oberlin/Summer2/DataAnalysis/data/0614/1IR', 32)\n",
    "df_1n = cleanup_network(df, numNode=32, numPeriod=15, numSim=50)\n",
    "df_1c = cleanup_0IR_exp(df, numNode=32, numPeriod=15, numSim=50, balanced=False)"
   ]
  },
  {
   "cell_type": "code",
   "execution_count": 103,
   "metadata": {},
   "outputs": [
    {
     "data": {
      "text/plain": [
       "Index(['dot0', 'dot1', 'dot2', 'dot3', 'dot4', 'dot5', 'dot6', 'dot7', 'dot8',\n",
       "       'dot9', 'dot10', 'dot11', 'dot12', 'dot13', 'dot14', 'dot15', 'dot16',\n",
       "       'dot17', 'dot18', 'dot19', 'dot20', 'dot21', 'dot22', 'dot23', 'dot24',\n",
       "       'dot25', 'dot26', 'dot27', 'dot28', 'dot29', 'dot30', 'period',\n",
       "       'theta (risk aversion)', 'defaults due to interest',\n",
       "       'defaults due to negative wealth', 'defaults due to deposit shock',\n",
       "       'over leverages', 'wealth', 'debt to pay', 'credit available',\n",
       "       'debt owed', 'credit issued', 'deposits', 'cash', 'assets', 'sim#',\n",
       "       'bankID'],\n",
       "      dtype='object')"
      ]
     },
     "execution_count": 103,
     "metadata": {},
     "output_type": "execute_result"
    }
   ],
   "source": [
    "df.columns\n",
    "# df_1c.columns"
   ]
  },
  {
   "cell_type": "code",
   "execution_count": 115,
   "metadata": {},
   "outputs": [
    {
     "name": "stdout",
     "output_type": "stream",
     "text": [
      "[4, 5]\n"
     ]
    },
    {
     "data": {
      "text/plain": [
       "(4, 5)"
      ]
     },
     "execution_count": 115,
     "metadata": {},
     "output_type": "execute_result"
    }
   ],
   "source": [
    "a=(4,5)\n",
    "print(list(a))\n",
    "a"
   ]
  },
  {
   "cell_type": "code",
   "execution_count": 120,
   "metadata": {},
   "outputs": [
    {
     "ename": "KeyError",
     "evalue": "0",
     "output_type": "error",
     "traceback": [
      "\u001b[0;31m---------------------------------------------------------------------------\u001b[0m",
      "\u001b[0;31mKeyError\u001b[0m                                  Traceback (most recent call last)",
      "\u001b[0;32m<ipython-input-120-4f19c73d4de7>\u001b[0m in \u001b[0;36m<module>\u001b[0;34m()\u001b[0m\n\u001b[1;32m      1\u001b[0m \u001b[0mfoo\u001b[0m \u001b[0;34m=\u001b[0m \u001b[0mset\u001b[0m\u001b[0;34m(\u001b[0m\u001b[0;34m[\u001b[0m\u001b[0;36m3\u001b[0m\u001b[0;34m,\u001b[0m\u001b[0;36m4\u001b[0m\u001b[0;34m,\u001b[0m\u001b[0;36m5\u001b[0m\u001b[0;34m]\u001b[0m\u001b[0;34m)\u001b[0m\u001b[0;34m\u001b[0m\u001b[0m\n\u001b[0;32m----> 2\u001b[0;31m \u001b[0mfoo\u001b[0m\u001b[0;34m.\u001b[0m\u001b[0mremove\u001b[0m\u001b[0;34m(\u001b[0m\u001b[0;36m0\u001b[0m\u001b[0;34m)\u001b[0m\u001b[0;34m\u001b[0m\u001b[0m\n\u001b[0m\u001b[1;32m      3\u001b[0m \u001b[0mfoo\u001b[0m\u001b[0;34m\u001b[0m\u001b[0m\n",
      "\u001b[0;31mKeyError\u001b[0m: 0"
     ]
    }
   ],
   "source": [
    "foo = set([3,4,5])\n",
    "foo.remove(0)\n",
    "foo"
   ]
  },
  {
   "cell_type": "code",
   "execution_count": 22,
   "metadata": {},
   "outputs": [],
   "source": [
    "def update_edge_matrix(g, ndarray):\n",
    "    for i in range(len(ndarray)):\n",
    "        for j in range(len(ndarray)):\n",
    "            g.add_edge(i, j, weight=ndarray[i][j])"
   ]
  },
  {
   "cell_type": "code",
   "execution_count": 177,
   "metadata": {},
   "outputs": [
    {
     "data": {
      "text/html": [
       "<div>\n",
       "<style scoped>\n",
       "    .dataframe tbody tr th:only-of-type {\n",
       "        vertical-align: middle;\n",
       "    }\n",
       "\n",
       "    .dataframe tbody tr th {\n",
       "        vertical-align: top;\n",
       "    }\n",
       "\n",
       "    .dataframe thead th {\n",
       "        text-align: right;\n",
       "    }\n",
       "</style>\n",
       "<table border=\"1\" class=\"dataframe\">\n",
       "  <thead>\n",
       "    <tr style=\"text-align: right;\">\n",
       "      <th></th>\n",
       "      <th>dot30</th>\n",
       "      <th>period</th>\n",
       "      <th>theta (risk aversion)</th>\n",
       "      <th>defaults due to interest</th>\n",
       "      <th>defaults due to negative wealth</th>\n",
       "      <th>defaults due to deposit shock</th>\n",
       "      <th>over leverages</th>\n",
       "      <th>wealth</th>\n",
       "      <th>debt to pay</th>\n",
       "      <th>credit available</th>\n",
       "      <th>debt owed</th>\n",
       "      <th>credit issued</th>\n",
       "      <th>deposits</th>\n",
       "      <th>cash</th>\n",
       "      <th>assets</th>\n",
       "      <th>sim#</th>\n",
       "      <th>bankID</th>\n",
       "    </tr>\n",
       "  </thead>\n",
       "  <tbody>\n",
       "    <tr>\n",
       "      <th>5085</th>\n",
       "      <td>0.0</td>\n",
       "      <td>15</td>\n",
       "      <td>0.1</td>\n",
       "      <td>0</td>\n",
       "      <td>1</td>\n",
       "      <td>0</td>\n",
       "      <td>7</td>\n",
       "      <td>0.0</td>\n",
       "      <td>0.0</td>\n",
       "      <td>0.0</td>\n",
       "      <td>0.0</td>\n",
       "      <td>25.5389</td>\n",
       "      <td>1003.69</td>\n",
       "      <td>0.0</td>\n",
       "      <td>87.3115</td>\n",
       "      <td>10</td>\n",
       "      <td>1</td>\n",
       "    </tr>\n",
       "  </tbody>\n",
       "</table>\n",
       "</div>"
      ],
      "text/plain": [
       "      dot30  period  theta (risk aversion)  defaults due to interest  \\\n",
       "5085    0.0      15                    0.1                         0   \n",
       "\n",
       "      defaults due to negative wealth  defaults due to deposit shock  \\\n",
       "5085                                1                              0   \n",
       "\n",
       "      over leverages  wealth  debt to pay  credit available  debt owed  \\\n",
       "5085               7     0.0          0.0               0.0        0.0   \n",
       "\n",
       "      credit issued  deposits  cash   assets  sim#  bankID  \n",
       "5085        25.5389   1003.69   0.0  87.3115    10       1  "
      ]
     },
     "execution_count": 177,
     "metadata": {},
     "output_type": "execute_result"
    }
   ],
   "source": [
    "df[np.array(df[\"sim#\"]==10) &\n",
    "   np.array(df[\"period\"]==15) &\n",
    "   np.array(df[\"bankID\"]==1)].loc[:,\"dot30\":]"
   ]
  },
  {
   "cell_type": "code",
   "execution_count": 178,
   "metadata": {},
   "outputs": [
    {
     "name": "stdout",
     "output_type": "stream",
     "text": [
      "0.0 1.0 0.0\n"
     ]
    }
   ],
   "source": [
    "a,b,c= df[np.array(df[\"sim#\"]==10) &\n",
    "   np.array(df[\"period\"]==15) &\n",
    "   np.array(df[\"bankID\"]==1)\n",
    "  ].iloc[0][\"defaults due to interest\":\"defaults due to deposit shock\"]\n",
    "print(a,b,c)\n",
    "#.loc[:,\"defaults due to interest\":\"defaults due to deposit shock\"]"
   ]
  },
  {
   "cell_type": "code",
   "execution_count": 198,
   "metadata": {},
   "outputs": [
    {
     "data": {
      "image/png": "[encoded data removed]",
      "text/plain": [
       "<Figure size 792x792 with 1 Axes>"
      ]
     },
     "metadata": {},
     "output_type": "display_data"
    }
   ],
   "source": [
    "########################\n",
    "# Variables you can manipulate\n",
    "########################\n",
    "data_birthday = \"2018-06-14\"\n",
    "data_info = \"1 Interest Rate, 31 Banks, 15 Periods\"\n",
    "sim_num = 25\n",
    "\n",
    "########################\n",
    "# Make BETTER video\n",
    "########################\n",
    "# Get current time\n",
    "time_creation = datetime.now()\n",
    "time_displayed = time_creation.strftime('%Y-%m-%d %H:%M:%S')\n",
    "time_filename = time_creation.strftime(\"%Y%m%dT%H%M%S\")\n",
    "\n",
    "# make a full graph\n",
    "fully_connected=np.ones((31,31))\n",
    "for i in range(31):\n",
    "    fully_connected[i,i] = 0\n",
    "G = nx.DiGraph(fully_connected)\n",
    "\n",
    "# make the canvas\n",
    "fig = plt.figure(figsize=(11,11))\n",
    "plt.suptitle(\"Financial Credit Network\\n\"+data_info, fontsize=25)\n",
    "period = plt.text(s=\"o\", x=0.91, y=-0.99, fontsize=22)\n",
    "plt.title(fontsize=11, \n",
    "          s=(\"Data: \" + data_birthday\n",
    "            + \" Simulation #\" + str(sim_num)\n",
    "            + \"Animation Created: \" + time_displayed\n",
    "            ) \n",
    "         )\n",
    "plt.axis('off')\n",
    "pos=nx.spring_layout(G) \n",
    "\n",
    "# keep track of banks still alive\n",
    "alive_banks = set(range(31))\n",
    "# keep track of banks last dead\n",
    "last_dead = set([])\n",
    "\n",
    "# draw the nodes\n",
    "for n in G:\n",
    "    G.node[n]['draw'] = nx.draw_networkx_nodes(G,\n",
    "                                               pos,\n",
    "                                               nodelist=[n], \n",
    "                                               with_labels=False, \n",
    "                                               node_color= (0,0,0),\n",
    "                                               node_shape= \"h\"\n",
    "                                              )\n",
    "    \n",
    "    # for u,v in G.edges():\n",
    "    #     G[u][v]['draw']=nx.draw_networkx_edges(G,pos,edgelist=[(u,v)],edge_color=\"white\",arrows=True)\n",
    "    # edges = nx.draw_networkx_edges(G, pos, arrows=False, edge_color=\"white\")\n",
    "\n",
    "#     return [node[1] for node in G.nodes(data=\"draw\")]\n",
    "\n",
    "    \n",
    "def update(i):\n",
    "#     update_edge_matrix(G, df.loc[i*31:i*31+30, \"dot1\":\"dot31\"].values)\n",
    "#     positive_edges = [[u,v] for (u,v,d) in G.edges(data=True) if d['weight'] >0]\n",
    "#     print(positive_edges)\n",
    "#     edges = nx.draw_networkx_edges(G, pos, arrows=False,edgelist=positive_edges) \n",
    "#     print(edges.get_array())\n",
    "\n",
    "#     nodes = nx.draw_networkx_nodes(G, pos, nodelist=list(choice(G.nodes())), node_color=\"b\")\n",
    "    \n",
    "    # if the bank default last period, change the color\n",
    "    for dead in last_dead:\n",
    "        G.node[dead]['draw'].set_color((0.81,0.81,0.81))\n",
    "    last_dead.clear()\n",
    "    \n",
    "    # if the bank defaults, change the color, mark as dead\n",
    "    for bank in list(alive_banks):\n",
    "        \n",
    "        interest, wealth, deposit = df[np.array(df[\"sim#\"]==sim_num) &\n",
    "                                       np.array(df[\"period\"]==(i+1)) &\n",
    "                                       np.array(df[\"bankID\"]==bank)\n",
    "                                      ].iloc[0][\"defaults due to interest\":\"defaults due to deposit shock\"]\n",
    "        \n",
    "        if interest + wealth + deposit != 0:\n",
    "            alive_banks.remove(bank)\n",
    "            last_dead.add(bank)\n",
    "        if interest != 0:\n",
    "            G.node[bank]['draw'].set_color((0.99,0.00,0.02))\n",
    "        if wealth != 0:\n",
    "            G.node[bank]['draw'].set_color((0.59,0.00,0.02))\n",
    "        if deposit != 0:\n",
    "            G.node[bank]['draw'].set_color((0.99,0.00,0.49))\n",
    "            \n",
    "\n",
    "    # update the text (period)\n",
    "    period.set_text(\"Period \"+str(i+1))\n",
    "\n",
    "    return [node[1] for node in G.nodes(data=\"draw\")]+[period]\n",
    "\n",
    "anim = FuncAnimation(fig, update, frames=15, interval=800, repeat=False, blit=True)\n",
    "anim.save(\"network\" + time_filename + \".mp4\")"
   ]
  },
  {
   "cell_type": "code",
   "execution_count": 48,
   "metadata": {},
   "outputs": [
    {
     "ename": "NameError",
     "evalue": "name 'update_edge_matrix' is not defined",
     "output_type": "error",
     "traceback": [
      "\u001b[0;31m---------------------------------------------------------------------------\u001b[0m",
      "\u001b[0;31mNameError\u001b[0m                                 Traceback (most recent call last)",
      "\u001b[0;32m<ipython-input-48-3fa1b4c47706>\u001b[0m in \u001b[0;36m<module>\u001b[0;34m()\u001b[0m\n\u001b[1;32m      4\u001b[0m \u001b[0;34m\u001b[0m\u001b[0m\n\u001b[1;32m      5\u001b[0m \u001b[0mG\u001b[0m \u001b[0;34m=\u001b[0m \u001b[0mnx\u001b[0m\u001b[0;34m.\u001b[0m\u001b[0mDiGraph\u001b[0m\u001b[0;34m(\u001b[0m\u001b[0;34m)\u001b[0m\u001b[0;34m\u001b[0m\u001b[0m\n\u001b[0;32m----> 6\u001b[0;31m \u001b[0mupdate_edge_matrix\u001b[0m\u001b[0;34m(\u001b[0m\u001b[0mG\u001b[0m\u001b[0;34m,\u001b[0m \u001b[0mdf\u001b[0m\u001b[0;34m.\u001b[0m\u001b[0mloc\u001b[0m\u001b[0;34m[\u001b[0m\u001b[0;36m31\u001b[0m\u001b[0;34m:\u001b[0m\u001b[0;36m31\u001b[0m\u001b[0;34m+\u001b[0m\u001b[0;36m30\u001b[0m\u001b[0;34m,\u001b[0m \u001b[0;34m\"dot1\"\u001b[0m\u001b[0;34m:\u001b[0m\u001b[0;34m\"dot31\"\u001b[0m\u001b[0;34m]\u001b[0m\u001b[0;34m.\u001b[0m\u001b[0mvalues\u001b[0m\u001b[0;34m)\u001b[0m\u001b[0;34m\u001b[0m\u001b[0m\n\u001b[0m\u001b[1;32m      7\u001b[0m \u001b[0;34m\u001b[0m\u001b[0m\n\u001b[1;32m      8\u001b[0m \u001b[0mfig\u001b[0m \u001b[0;34m=\u001b[0m \u001b[0mplt\u001b[0m\u001b[0;34m.\u001b[0m\u001b[0mfigure\u001b[0m\u001b[0;34m(\u001b[0m\u001b[0mfigsize\u001b[0m\u001b[0;34m=\u001b[0m\u001b[0;34m(\u001b[0m\u001b[0;36m10\u001b[0m\u001b[0;34m,\u001b[0m\u001b[0;36m10\u001b[0m\u001b[0;34m)\u001b[0m\u001b[0;34m)\u001b[0m\u001b[0;34m\u001b[0m\u001b[0m\n",
      "\u001b[0;31mNameError\u001b[0m: name 'update_edge_matrix' is not defined"
     ]
    }
   ],
   "source": [
    "########################\n",
    "# Make video\n",
    "########################\n",
    "\n",
    "G = nx.DiGraph()\n",
    "update_edge_matrix(G, df.loc[31:31+30, \"dot1\":\"dot31\"].values)\n",
    "\n",
    "fig = plt.figure(figsize=(10,10))\n",
    "pos=nx.spring_layout(G) \n",
    "\n",
    "positive_edges = [(u,v) for (u,v,d) in G.edges(data=True) if d['weight'] >0]\n",
    "nodes = nx.draw_networkx_nodes(G, pos)\n",
    "edges = nx.draw_networkx_edges(G, pos, arrows=False, edgelist=positive_edges) \n",
    "plt.axis('off')\n",
    "\n",
    "def update(i):\n",
    "    update_edge_matrix(G, df.loc[i*31:i*31+30, \"dot1\":\"dot31\"].values)\n",
    "    positive_edges = [[u,v] for (u,v,d) in G.edges(data=True) if d['weight'] >0]\n",
    "#     print(positive_edges)\n",
    "    edges = nx.draw_networkx_edges(G, pos, arrows=False,edgelist=positive_edges) \n",
    "#     print(edges.get_array())\n",
    "    return edges,\n",
    "\n",
    "anim = FuncAnimation(fig, update, frames=range(2,5), interval=500, blit=True)\n",
    "anim.save(\"network.mp4\")"
   ]
  },
  {
   "cell_type": "code",
   "execution_count": 76,
   "metadata": {},
   "outputs": [],
   "source": [
    "########################\n",
    "# Draw pictures and stitch \n",
    "########################\n",
    "\n",
    "# G = nx.DiGraph()\n",
    "# update_edge_matrix(G, df.loc[0:30, \"dot1\":\"dot31\"].values)\n",
    "# pos=nx.spring_layout(G) \n",
    "# for i in range(15):\n",
    "#     update_edge_matrix(G, df.loc[0:30, \"dot1\":\"dot31\"].values)\n",
    "\n",
    "#     fig = plt.figure(figsize=(10,10))\n",
    "#     plt.axis('off')\n",
    "#     nx.draw_networkx_nodes(G,pos)\n",
    "    \n",
    "#     update_edge_matrix(G, df.loc[i*31:i*31+30, \"dot1\":\"dot31\"].values)\n",
    "#     positive_edges = [(u,v) for (u,v,d) in G.edges(data=True) if d['weight'] >0]\n",
    "#     nx.draw_networkx_edges(G, pos, arrows=True, edgelist=positive_edges) \n",
    "#     plt.text(-0.95,0.95,s=\"period \"+str(i+1),fontsize=24)\n",
    "#     plt.savefig(\"zzp-fig\"+str(i)+\".png\")"
   ]
  }
 ],
 "metadata": {
  "kernelspec": {
   "display_name": "Python 3",
   "language": "python",
   "name": "python3"
  },
  "language_info": {
   "codemirror_mode": {
    "name": "ipython",
    "version": 3
   },
   "file_extension": ".py",
   "mimetype": "text/x-python",
   "name": "python",
   "nbconvert_exporter": "python",
   "pygments_lexer": "ipython3",
   "version": "3.6.5"
  }
 },
 "nbformat": 4,
 "nbformat_minor": 2
}
