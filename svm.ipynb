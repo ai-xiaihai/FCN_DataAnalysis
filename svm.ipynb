{
 "cells": [
  {
   "cell_type": "code",
   "execution_count": 3,
   "metadata": {},
   "outputs": [],
   "source": [
    "# the packages\n",
    "import pandas as pd\n",
    "import numpy as np\n",
    "from matplotlib import pyplot as plt\n",
    "\n",
    "# import my own helper functions\n",
    "from read import read_sims_result\n",
    "from clean import cleanup_0IR_exp\n",
    "from clean import cleanup_0IR_single\n",
    "from clean import cleanup_network\n",
    "\n",
    "# scale the data\n",
    "from sklearn import preprocessing\n",
    "\n",
    "# support vector regression\n",
    "from sklearn.svm import SVR, NuSVR, LinearSVR\n",
    "\n",
    "# support vector classification\n",
    "from sklearn.svm import SVC\n",
    "\n",
    "# confusion matrix\n",
    "from sklearn.metrics import confusion_matrix"
   ]
  },
  {
   "cell_type": "code",
   "execution_count": 2,
   "metadata": {},
   "outputs": [],
   "source": [
    "independent = ['dot0', 'dot1', 'dot2', 'dot3', 'dot4', 'dot5', 'dot6', 'dot7', 'dot8',\n",
    "               'dot9', 'dot10', 'dot11', 'dot12', 'dot13', 'dot14', 'dot15', 'dot16',\n",
    "               'dot17', 'dot18', 'dot19', 'dot20', 'dot21', 'dot22', 'dot23', 'dot24',\n",
    "               'dot25', 'dot26', 'dot27', 'dot28', 'dot29', 'dot30', \n",
    "               'wealth', 'debt to pay', 'credit available',\n",
    "               'debt owed', 'credit issued', 'deposits', 'cash', 'assets', \n",
    "               'leverage', 'over-leverage-frequency', \n",
    "               'wealth-lag', 'deposits-lag', 'cash-lag', 'assets-lag', \n",
    "               'leverage-lag', 'credit-available-lag', 'credit-issued-lag', \n",
    "               ]"
   ]
  },
  {
   "cell_type": "code",
   "execution_count": 4,
   "metadata": {},
   "outputs": [],
   "source": [
    "# Read training data\n",
    "dft = read_sims_result(\"/Users/xcheng/Documents/Oberlin/Summer2/DataAnalysis/data/0719/1IR100s\", 32)\n",
    "dftc = cleanup_0IR_exp(dft, numSim=100, balanced=False, debts=True)"
   ]
  },
  {
   "cell_type": "code",
   "execution_count": 4,
   "metadata": {},
   "outputs": [],
   "source": [
    "# scale the training data\n",
    "scaler = preprocessing.StandardScaler().fit(dftc[independent])\n",
    "X_train = scaler.transform(dftc[independent])"
   ]
  },
  {
   "cell_type": "code",
   "execution_count": 12,
   "metadata": {},
   "outputs": [
    {
     "data": {
      "text/plain": [
       "SVC(C=0.2, cache_size=1000, class_weight={1: 5}, coef0=0.0,\n",
       "  decision_function_shape='ovr', degree=3, gamma='auto', kernel='rbf',\n",
       "  max_iter=-1, probability=False, random_state=None, shrinking=True,\n",
       "  tol=0.001, verbose=False)"
      ]
     },
     "execution_count": 12,
     "metadata": {},
     "output_type": "execute_result"
    }
   ],
   "source": [
    "# train data\n",
    "clf = SVC(C=0.2, cache_size=1000, class_weight={1: 5})\n",
    "clf.fit(X_train, dftc[\"default-next\"]) "
   ]
  },
  {
   "cell_type": "code",
   "execution_count": 6,
   "metadata": {},
   "outputs": [],
   "source": [
    "# Read validation data\n",
    "dfv = read_sims_result(\"/Users/xcheng/Documents/Oberlin/Summer2/DataAnalysis/data/0625/1IR\", 32)\n",
    "dfvc = cleanup_0IR_exp(dfv, numSim=50, balanced=False, debts=True)"
   ]
  },
  {
   "cell_type": "code",
   "execution_count": 13,
   "metadata": {},
   "outputs": [
    {
     "name": "stdout",
     "output_type": "stream",
     "text": [
      "0.9910635964912281\n",
      "[[18071     8]\n",
      " [  155     6]]\n",
      " accuracy:      0.9910635964912281\n",
      " precision:     0.42857142857142855\n",
      " recall:    0.037267080745341616\n",
      "\n"
     ]
    }
   ],
   "source": [
    "# validate result \n",
    "X_valid = scaler.transform(dfvc[independent])\n",
    "accuracy = clf.score(X_valid, dfvc[\"default-next\"])\n",
    "print(accuracy)\n",
    "conf = confusion_matrix(dfvc[\"default-next\"], clf.predict(X_valid))\n",
    "tn, fp, fn, tp = conf.ravel()\n",
    "print(\"{}\\n accuracy:{:24}\\n precision:{:24}\\n recall:{:24}\\n\".format(\n",
    "        conf, \n",
    "        accuracy, \n",
    "        tp/(tp+fp),\n",
    "        tp/(tp+fn)))"
   ]
  },
  {
   "cell_type": "code",
   "execution_count": null,
   "metadata": {},
   "outputs": [],
   "source": []
  }
 ],
 "metadata": {
  "kernelspec": {
   "display_name": "Python 3",
   "language": "python",
   "name": "python3"
  },
  "language_info": {
   "codemirror_mode": {
    "name": "ipython",
    "version": 3
   },
   "file_extension": ".py",
   "mimetype": "text/x-python",
   "name": "python",
   "nbconvert_exporter": "python",
   "pygments_lexer": "ipython3",
   "version": "3.6.5"
  }
 },
 "nbformat": 4,
 "nbformat_minor": 2
}
